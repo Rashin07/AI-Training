{
 "cells": [
  {
   "cell_type": "code",
   "execution_count": null,
   "id": "a79d2575",
   "metadata": {},
   "outputs": [
    {
     "name": "stdout",
     "output_type": "stream",
     "text": [
      "[ 1  2  4  8 16] \n",
      "\n",
      "[[1 2]\n",
      " [2 3]\n",
      " [3 4]] \n",
      "\n",
      "[0. 0. 0. 0. 0. 0. 0. 0. 0. 0.] \n",
      "\n",
      "[1. 1. 1. 1. 1. 1. 1. 1. 1. 1.] \n",
      "\n",
      "[0.         0.02040816 0.04081633 0.06122449 0.08163265 0.10204082\n",
      " 0.12244898 0.14285714 0.16326531 0.18367347 0.20408163 0.2244898\n",
      " 0.24489796 0.26530612 0.28571429 0.30612245 0.32653061 0.34693878\n",
      " 0.36734694 0.3877551  0.40816327 0.42857143 0.44897959 0.46938776\n",
      " 0.48979592 0.51020408 0.53061224 0.55102041 0.57142857 0.59183673\n",
      " 0.6122449  0.63265306 0.65306122 0.67346939 0.69387755 0.71428571\n",
      " 0.73469388 0.75510204 0.7755102  0.79591837 0.81632653 0.83673469\n",
      " 0.85714286 0.87755102 0.89795918 0.91836735 0.93877551 0.95918367\n",
      " 0.97959184 1.        ] \n",
      "\n"
     ]
    }
   ],
   "source": [
    "# Mathematical foundations in AI\n",
    "\n",
    "# 1. linear algebra\n",
    "# 2. probability\n",
    "# 3. statistics\n",
    "# 4. hypothesis testing\n",
    "\n",
    "# -----------------------------------------------------------------------------\n",
    "\n",
    "# linear algebra\n",
    "\n",
    "import numpy as np\n",
    "a1 = np.array([1, 2, 4, 8, 16])     # to store array\n",
    "print(a1, '\\n')\n",
    "\n",
    "m1 = np.matrix([[1, 2], [2, 3], [3, 4]])        # to store matrix\n",
    "print(m1, '\\n')\n",
    "\n",
    "z1 = np.zeros(10)       # to display '10' zeroes\n",
    "print(z1, '\\n')\n",
    "\n",
    "o1 = np.ones(10)        # to display '10' ones\n",
    "print(o1, '\\n')\n",
    "\n",
    "n = np.linspace(0, 1, 50)      # evenly seperate the values\n",
    "print(n, '\\n')"
   ]
  },
  {
   "cell_type": "code",
   "execution_count": 15,
   "id": "05a9af8b",
   "metadata": {},
   "outputs": [
    {
     "name": "stdout",
     "output_type": "stream",
     "text": [
      "[[ 6  1  1]\n",
      " [ 4 -2  5]\n",
      " [ 2  8  7]]\n",
      "[[ 0.17647059 -0.00326797 -0.02287582]\n",
      " [ 0.05882353 -0.13071895  0.08496732]\n",
      " [-0.11764706  0.1503268   0.05228758]]\n"
     ]
    }
   ],
   "source": [
    "# Inverse of matrix\n",
    "\n",
    "# [[6, 1, 1],\n",
    "#  [4, -2, 5],    # (3 x 3) matrix\n",
    "#  [2, 8, 7]]\n",
    "\n",
    "m1 = np.matrix([[6, 1, 1], [4, -2, 5], [2, 8, 7]])\n",
    "print(m1)\n",
    "print(np.linalg.inv(m1))"
   ]
  },
  {
   "cell_type": "code",
   "execution_count": 17,
   "id": "96318e1e",
   "metadata": {},
   "outputs": [
    {
     "name": "stdout",
     "output_type": "stream",
     "text": [
      "[[ 0.33333333  0.1754386  -0.24561404]\n",
      " [-1.         -0.05263158  0.47368421]\n",
      " [ 0.66666667 -0.01754386 -0.1754386 ]]\n"
     ]
    }
   ],
   "source": [
    "m1 = np.matrix([[1, 2, 4], [8, 6, 5], [3, 7, 9]])\n",
    "print(np.linalg.inv(m1))"
   ]
  },
  {
   "cell_type": "code",
   "execution_count": 18,
   "id": "d5d83784",
   "metadata": {},
   "outputs": [
    {
     "name": "stdout",
     "output_type": "stream",
     "text": [
      "-306.0\n"
     ]
    }
   ],
   "source": [
    "# Determinant of matrix\n",
    "\n",
    "m1 = np.matrix([[6, 1, 1], [4, -2, 5], [2, 8, 7]])\n",
    "print(np.linalg.det(m1))\n"
   ]
  },
  {
   "cell_type": "code",
   "execution_count": 19,
   "id": "9c937626",
   "metadata": {},
   "outputs": [
    {
     "name": "stdout",
     "output_type": "stream",
     "text": [
      "-306.0\n"
     ]
    }
   ],
   "source": [
    "# Determinant can also be used after importing from numpy.linalg\n",
    "\n",
    "m1 = np.matrix([[6, 1, 1], [4, -2, 5], [2, 8, 7]])\n",
    "from numpy.linalg import det\n",
    "print(det(m1))"
   ]
  },
  {
   "cell_type": "code",
   "execution_count": null,
   "id": "d70de41f",
   "metadata": {},
   "outputs": [
    {
     "name": "stdout",
     "output_type": "stream",
     "text": [
      "[5. 2.]\n",
      "[[ 0.89442719 -0.70710678]\n",
      " [ 0.4472136   0.70710678]]\n"
     ]
    }
   ],
   "source": [
    "# refer & learn\n",
    "\n",
    "from numpy.linalg import eig\n",
    "matrix = np.matrix([[4, 2], [1, 3]])\n",
    "vals, vecs = eig(matrix)\n",
    "print(vals)\n",
    "print(vecs)"
   ]
  },
  {
   "cell_type": "code",
   "execution_count": null,
   "id": "184935ea",
   "metadata": {},
   "outputs": [
    {
     "name": "stdout",
     "output_type": "stream",
     "text": [
      "[[0.09629618 0.8216469  0.41177108 0.51603488 0.59429584 0.31344605\n",
      "  0.41362295 0.24326818 0.07377601 0.66773575 0.62078797 0.94238928\n",
      "  0.47846507 0.66466704 0.21509404 0.81563962 0.2429988  0.26673779\n",
      "  0.25539669 0.49462912 0.48611308 0.19658004 0.62918451 0.86255117\n",
      "  0.62132097 0.99353125 0.04171995 0.33939488 0.12820224 0.68945095]\n",
      " [0.19846143 0.32456691 0.43645937 0.92575113 0.05797691 0.50384228\n",
      "  0.08225516 0.91023367 0.26800311 0.11587534 0.46041394 0.82621705\n",
      "  0.2050504  0.64051762 0.561869   0.19886662 0.97151113 0.80651806\n",
      "  0.65251358 0.665654   0.68197233 0.92183851 0.6336797  0.85867228\n",
      "  0.69125497 0.47901104 0.97756694 0.36679526 0.16022735 0.38643676]]\n"
     ]
    }
   ],
   "source": [
    "A = np.random.rand(2, 30)       # arguments -> rows & columns\n",
    "print(A)"
   ]
  },
  {
   "cell_type": "code",
   "execution_count": null,
   "id": "6692b8ae",
   "metadata": {},
   "outputs": [
    {
     "name": "stdout",
     "output_type": "stream",
     "text": [
      "2\n"
     ]
    }
   ],
   "source": [
    "# Rank of matrix -> how independent are rows & columns\n",
    "\n",
    "v1 = np.array([[1, 2], [3, 4]])\n",
    "print(np.linalg.matrix_rank(v1))"
   ]
  },
  {
   "cell_type": "code",
   "execution_count": 27,
   "id": "95a8e40e",
   "metadata": {},
   "outputs": [
    {
     "data": {
      "image/png": "[encoded data removed]",
      "text/plain": [
       "<Figure size 640x480 with 1 Axes>"
      ]
     },
     "metadata": {},
     "output_type": "display_data"
    }
   ],
   "source": [
    "# matplotlib, seaborn, plotly\n",
    "\n",
    "import matplotlib.pyplot as plt\n",
    "import seaborn as sns\n",
    "import plotly\n",
    "plt.quiver(1, 0, 0, 2, color = 'red')\n",
    "plt.quiver(1, 0, 2, 3, color = 'green')\n",
    "plt.xlim(-5, 1)\n",
    "plt.ylim(-5, 1)\n",
    "plt.show()"
   ]
  },
  {
   "cell_type": "code",
   "execution_count": null,
   "id": "5febde54",
   "metadata": {},
   "outputs": [],
   "source": []
  }
 ],
 "metadata": {
  "kernelspec": {
   "display_name": ".venv-1 (3.12.3)",
   "language": "python",
   "name": "python3"
  },
  "language_info": {
   "codemirror_mode": {
    "name": "ipython",
    "version": 3
   },
   "file_extension": ".py",
   "mimetype": "text/x-python",
   "name": "python",
   "nbconvert_exporter": "python",
   "pygments_lexer": "ipython3",
   "version": "3.12.3"
  }
 },
 "nbformat": 4,
 "nbformat_minor": 5
}
